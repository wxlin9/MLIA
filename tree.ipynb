{
 "cells": [
  {
   "cell_type": "markdown",
   "metadata": {},
   "source": [
    "一、决策树的决策过程  \n",
    "首先通过一个周志华老师的《机器学习》西瓜数据集2.0来认识一下决策树。现有下边的表格数据，使用决策树来分出，什么样的是好瓜。\n",
    "\n",
    "|编号|色泽|根蒂|敲声|纹理|脐部|触感|好瓜|\n",
    "| ------ | \n",
    "|1\t|青绿\t|蜷缩\t|浊响\t|清晰\t|凹陷|  硬滑   |是|\n",
    "|2\t|乌黑\t|蜷缩\t|沉闷\t|清晰\t|凹陷|  硬滑\t|是|\n",
    "|3\t|乌黑\t|蜷缩\t|浊响\t|清晰 |凹陷|  硬滑\t|是|\n",
    "|4\t|青绿\t|蜷缩\t|沉闷\t|清晰\t|凹陷|  硬滑\t|是|\n",
    "|5\t|浅白\t|蜷缩\t|浊响\t|清晰\t|凹陷|  硬滑\t|是|\n",
    "|6\t|青绿\t|稍蜷\t|浊响\t|清晰\t|稍凹|  软粘\t|是|\n",
    "|7\t|乌黑\t|稍蜷\t|浊响\t|稍糊\t|稍凹|  软粘\t|是|\n",
    "|8\t|乌黑\t|稍蜷\t|浊响\t|清晰\t|稍凹|  硬滑\t|是|\n",
    "|9\t|乌黑\t|稍蜷\t|沉闷\t|稍糊\t|稍凹|  硬滑\t|否|\n",
    "|10\t|青绿\t|硬挺\t|清脆\t|清晰\t|平坦|  软粘\t|否|\n",
    "|11\t|浅白\t|硬挺\t|清脆\t|模糊\t|平坦|  硬滑\t|否|\n",
    "|12\t|浅白\t|蜷缩\t|浊响\t|模糊\t|平坦|  软粘\t|否|\n",
    "|13\t|青绿\t|稍蜷\t|浊响\t|稍糊\t|凹陷|  硬滑\t|否|\n",
    "|14\t|浅白\t|稍蜷\t|沉闷\t|稍糊\t|凹陷|  硬滑\t|否|\n",
    "|15\t|乌黑\t|稍蜷\t|浊响\t|清晰\t|稍凹|  软粘\t|否|\n",
    "|16\t|浅白\t|蜷缩\t|浊响\t|模糊\t|平坦|  硬滑\t|否|\n",
    "|17\t|青绿\t|蜷缩\t|沉闷\t|稍糊\t|稍凹|  硬滑   |否|\n",
    "\n",
    "      如果根据人的推理，花费一些时间，也是做到区分好瓜和坏瓜，这里稍作尝试：\n",
    "\n",
    "|特征|色泽 |根蒂|敲声|纹理|脐部|触感|\n",
    "| ------ | \n",
    "|属性|乌黑 |蜷缩|浊响|清晰|凹陷|硬滑|\n",
    "|比例|4/6 |5/8|6/10|7/9|5/7|6/12|\n",
    "      用最直接的方法，把好瓜比例最多的属性作为是区分的属性，同时满足这几个条件也就是3号瓜，确实是好瓜。人能根据以有的经验发散推理，根据色泽乌黑、根蒂蜷缩——推断深色的、根蒂蜷的比较可能会是好瓜，很符合人的思维。\n",
    "      如果西瓜数据量变成成百上千的数据，人的计算推理能力就有限了，已经无法区分好瓜。\n",
    "      \n",
    "      这就需要算法来解决问题，下面讲到决策树，首先列出两个公式：\n",
    "      1.信息熵，是香农提出度量样本（数据）包含信息量的一个指标，，Ent(D)的值越小，则D的纯度越高。\n",
    "       公式：\n",
    "<a href=\"https://www.codecogs.com/eqnedit.php?latex=Ent(D)=-\\sum_{k=1}^{|y|}p_{k}log_{2}p_{k}\" target=\"_blank\"><img src=\"https://latex.codecogs.com/gif.latex?Ent(D)=-\\sum_{k=1}^{|y|}p_{k}log_{2}p_{k}\" title=\"Ent(D)=-\\sum_{k=1}^{|y|}p_{k}log_{2}p_{k}\" /></a>\n",
    "  \n",
    "       其中：\n",
    "        |y|:样本的特征维度，西瓜集好瓜只有是否，所以|y|=2\n",
    "        p:样本集D中，第k类样本所占的比例p(k=1,2,...,|y|),例：色泽青绿的六个瓜,正例p1=3/6，反例p2=3/6\n",
    "        \n",
    "       2.信息增益，在划分数据集之前之前信息发生的变化称为信息增益，\n",
    "       \n",
    "\n"
   ]
  },
  {
   "cell_type": "code",
   "execution_count": 1,
   "metadata": {
    "collapsed": true
   },
   "outputs": [],
   "source": [
    "from math import log\n",
    "def calc_shannon_ent(dataset):\n",
    "    num_entries= len(dataset) \n",
    "    label_counts={}\n",
    "    for feat_vec in dataset:\n",
    "        current_label=feat_vec[-1]\n",
    "        if current_label not in label_counts.keys():\n",
    "            label_counts[current_label]=0\n",
    "        label_counts[current_label]+=1\n",
    "    shannon_ent=0.0\n",
    "    for key in label_counts:\n",
    "        prob=float(label_counts[key])/num_entries\n",
    "        shannon_ent-=prob*log(prob,2)\n",
    "    return shannon_ent"
   ]
  },
  {
   "cell_type": "code",
   "execution_count": 2,
   "metadata": {
    "collapsed": true
   },
   "outputs": [],
   "source": [
    "def create_data_set():\n",
    "    data_set=[[1,1,'yes'],\n",
    "             [1,1,'yes'],\n",
    "             [1,0,'no'],\n",
    "             [0,1,'no'],\n",
    "             [0,1,'no']]\n",
    "    labels=['no surfacing','flippers']\n",
    "    return data_set,labels"
   ]
  },
  {
   "cell_type": "code",
   "execution_count": 3,
   "metadata": {
    "collapsed": true
   },
   "outputs": [],
   "source": [
    "my_dat,labels=create_data_set()"
   ]
  },
  {
   "cell_type": "code",
   "execution_count": 4,
   "metadata": {},
   "outputs": [
    {
     "data": {
      "text/plain": [
       "[[1, 1, 'yes'], [1, 1, 'yes'], [1, 0, 'no'], [0, 1, 'no'], [0, 1, 'no']]"
      ]
     },
     "execution_count": 4,
     "metadata": {},
     "output_type": "execute_result"
    }
   ],
   "source": [
    "my_dat"
   ]
  },
  {
   "cell_type": "code",
   "execution_count": 5,
   "metadata": {},
   "outputs": [
    {
     "data": {
      "text/plain": [
       "0.9709505944546686"
      ]
     },
     "execution_count": 5,
     "metadata": {},
     "output_type": "execute_result"
    }
   ],
   "source": [
    "calc_shannon_ent(my_dat)"
   ]
  },
  {
   "cell_type": "code",
   "execution_count": 6,
   "metadata": {},
   "outputs": [
    {
     "data": {
      "text/plain": [
       "[[1, 1, 'yes'], [1, 1, 'yes'], [1, 0, 'no'], [0, 1, 'no'], [0, 1, 'no']]"
      ]
     },
     "execution_count": 6,
     "metadata": {},
     "output_type": "execute_result"
    }
   ],
   "source": [
    "my_dat"
   ]
  },
  {
   "cell_type": "code",
   "execution_count": 7,
   "metadata": {},
   "outputs": [
    {
     "data": {
      "text/plain": [
       "0.9709505944546686"
      ]
     },
     "execution_count": 7,
     "metadata": {},
     "output_type": "execute_result"
    }
   ],
   "source": [
    "calc_shannon_ent(my_dat)"
   ]
  },
  {
   "cell_type": "code",
   "execution_count": 8,
   "metadata": {
    "collapsed": true
   },
   "outputs": [],
   "source": [
    "def split_data_set(data_set,axis,value):\n",
    "    ret_data_set =[]\n",
    "    for feat_vec in data_set:\n",
    "        if feat_vec[axis]==value:\n",
    "            reduced_feac_vec=feat_vec[:axis]\n",
    "            reduced_feac_vec.extend(feat_vec[axis+1:])\n",
    "            ret_data_set.append(reduced_feac_vec)\n",
    "    return ret_data_set"
   ]
  },
  {
   "cell_type": "code",
   "execution_count": 9,
   "metadata": {},
   "outputs": [
    {
     "data": {
      "text/plain": [
       "[[1, 'yes'], [1, 'yes'], [0, 'no']]"
      ]
     },
     "execution_count": 9,
     "metadata": {},
     "output_type": "execute_result"
    }
   ],
   "source": [
    "split_data_set(my_dat,0,1)"
   ]
  },
  {
   "cell_type": "code",
   "execution_count": 10,
   "metadata": {
    "scrolled": true
   },
   "outputs": [
    {
     "data": {
      "text/plain": [
       "[[1, 1, 'yes'], [1, 1, 'yes'], [1, 0, 'no'], [0, 1, 'no'], [0, 1, 'no']]"
      ]
     },
     "execution_count": 10,
     "metadata": {},
     "output_type": "execute_result"
    }
   ],
   "source": [
    "my_dat"
   ]
  },
  {
   "cell_type": "code",
   "execution_count": 11,
   "metadata": {
    "collapsed": true
   },
   "outputs": [],
   "source": [
    "data_set=my_dat"
   ]
  },
  {
   "cell_type": "code",
   "execution_count": 12,
   "metadata": {
    "collapsed": true
   },
   "outputs": [],
   "source": [
    "def choose_best_feature_to_split(data_set):\n",
    "    num_features= len(data_set[0])-1 #feature的维度，数据是三个，减去一个就是特征数量\n",
    "    base_entropy = calc_shannon_ent(data_set) #计算数据集的香农熵\n",
    "    best_info_gain =0.0;bset_feature= -1\n",
    "    for i in range(num_features):\n",
    "        feat_list=[example[i] for example in data_set]\n",
    "        unique_vals =set(feat_list)\n",
    "        new_entropy = 0.0\n",
    "        for value in unique_vals:\n",
    "            sub_data_set= split_data_set(data_set,i,value)\n",
    "            prob=len(sub_data_set)/float(len(data_set))\n",
    "            new_entropy+=prob*calc_shannon_ent(sub_data_set)\n",
    "        info_gain=base_entropy-new_entropy\n",
    "        if (info_gain>best_info_gain):\n",
    "            best_info_gain=info_gain\n",
    "            best_feature=i\n",
    "    return best_feature\n",
    "\n",
    "import operator\n",
    "\n",
    "def majority_cnt(class_list):\n",
    "    class_count={}\n",
    "    for vote in class_list:\n",
    "        if vote not in class_count.keys():class_count[vote]=0\n",
    "        class_count[vote] +=1\n",
    "        sorted_class_count=sorted(class_count.iteritems(),\n",
    "                                  key=operator.itemgetter(1),reverse=True)\n",
    "    return sorted_class_count[0][0]\n",
    "\n",
    "def create_tree(data_set,labels):\n",
    "    class_list=[example[-1]for example in data_set]\n",
    "    if class_list.count(class_list[0])==len(class_list):\n",
    "        return class_list[0]\n",
    "    if len(data_set[0])==1:\n",
    "        return majority_cnt(class_list)\n",
    "    best_feat=choose_best_feature_to_split(data_set)\n",
    "    best_feat_label=labels[best_feat]\n",
    "    my_tree={best_feat_label:{}}\n",
    "    del(labels[best_feat])\n",
    "    feat_values=[example[best_feat]for example in data_set]\n",
    "    unique_vals=set(feat_values)\n",
    "    for value in unique_vals:\n",
    "        sub_labels=labels[:]\n",
    "        my_tree[best_feat_label][value]=create_tree(split_data_set\\\n",
    "                            (data_set,best_feat,value),sub_labels)\n",
    "    return my_tree"
   ]
  },
  {
   "cell_type": "code",
   "execution_count": 13,
   "metadata": {
    "collapsed": true
   },
   "outputs": [],
   "source": [
    "my_tree=create_tree(my_dat,labels)"
   ]
  },
  {
   "cell_type": "code",
   "execution_count": 14,
   "metadata": {},
   "outputs": [
    {
     "data": {
      "text/plain": [
       "{'no surfacing': {0: 'no', 1: {'flippers': {0: 'no', 1: 'yes'}}}}"
      ]
     },
     "execution_count": 14,
     "metadata": {},
     "output_type": "execute_result"
    }
   ],
   "source": [
    "my_tree"
   ]
  },
  {
   "cell_type": "code",
   "execution_count": 15,
   "metadata": {
    "collapsed": true
   },
   "outputs": [],
   "source": [
    "import matplotlib.pyplot as plt\n",
    "decision_node = dict(boxstyle=\"sawtooth\",fc=\"0.8\")\n",
    "leaf_node = dict (boxstyle=\"round4\",fc=\"0.8\")\n",
    "arrow_args = dict (arrowstyle=\"<-\")\n",
    "\n",
    "def plot_node(node_txt,center_pt,parent_pt,node_type):\n",
    "    create_plot.ax1.annotate(node_txt,xy=parent_pt,xycoords='axes fraction',\\\n",
    "    xytext=center_pt,textcoords='axes fraction',\\\n",
    "    va=\"center\",ha=\"center\",bbox=node_type,arrowprops=arrow_args)\n",
    "    \n",
    "def create_plot():\n",
    "    fig=plt.figure(1,facecolor='white')\n",
    "    fig.clf\n",
    "    create_plot.ax1=plt.subplot(111,frameon=False)\n",
    "    plot_node(U'decision',(0.5,0.1),(0.1,0.5),decision_node)\n",
    "    plot_node(U'leaf',(0.8,0.1),(0.3,0.8),leaf_node)\n",
    "    plt.show()"
   ]
  },
  {
   "cell_type": "code",
   "execution_count": 16,
   "metadata": {
    "scrolled": false
   },
   "outputs": [
    {
     "data": {
      "image/png": "[encoded data removed]",
      "text/plain": [
       "<matplotlib.figure.Figure at 0x175a3d8c1d0>"
      ]
     },
     "metadata": {},
     "output_type": "display_data"
    }
   ],
   "source": [
    "create_plot()"
   ]
  },
  {
   "cell_type": "code",
   "execution_count": 17,
   "metadata": {
    "collapsed": true
   },
   "outputs": [],
   "source": [
    "def get_num_leafs(my_tree):\n",
    "    num_leafs=0\n",
    "#     first_str=my_tree.keys()[0]\n",
    "    list_dict=list(my_tree.keys())\n",
    "    first_str=list_dict[0]\n",
    "    second_dict=my_tree[first_str]\n",
    "    for key in second_dict.keys():\n",
    "        if type(second_dict[key]).__name__=='dict':\n",
    "            num_leafs+=get_num_leafs(second_dict[key])\n",
    "        else: num_leafs+=1\n",
    "    return num_leafs\n",
    "\n",
    "def get_tree_depth(my_tree):\n",
    "    max_depth=0\n",
    "#     first_dict=my_tree.key()[0]\n",
    "    list_dict=list(my_tree.keys())\n",
    "    first_str=list_dict[0]\n",
    "    second_dict=my_tree[first_str]\n",
    "    for key in second_dict.keys():\n",
    "        if type(second_dict[key]).__name__=='dict':\n",
    "            this_depth=1+get_tree_depth(second_dict[key])\n",
    "        else: this_depth=1\n",
    "        if this_depth>max_depth:\n",
    "            max_depth=this_depth\n",
    "    return max_depth"
   ]
  },
  {
   "cell_type": "code",
   "execution_count": 18,
   "metadata": {
    "collapsed": true
   },
   "outputs": [],
   "source": [
    "def retrieve_tree(i):\n",
    "    list_of_trees=[{'no surfacing':{0:'no',1:{'flippers':{0:'no',1:'yes'}}}},\n",
    "                   {'no surfacing':{0:'no',1:{'flippers':{0:{'head':{0:'no',1:'yes'}},1:'no'}}}}]\n",
    "    return list_of_trees[i]"
   ]
  },
  {
   "cell_type": "code",
   "execution_count": 19,
   "metadata": {},
   "outputs": [
    {
     "data": {
      "text/plain": [
       "{'no surfacing': {0: 'no',\n",
       "  1: {'flippers': {0: {'head': {0: 'no', 1: 'yes'}}, 1: 'no'}}}}"
      ]
     },
     "execution_count": 19,
     "metadata": {},
     "output_type": "execute_result"
    }
   ],
   "source": [
    "retrieve_tree(1)"
   ]
  },
  {
   "cell_type": "code",
   "execution_count": 20,
   "metadata": {
    "collapsed": true
   },
   "outputs": [],
   "source": [
    "my_tree=retrieve_tree(0)"
   ]
  },
  {
   "cell_type": "code",
   "execution_count": 21,
   "metadata": {},
   "outputs": [
    {
     "data": {
      "text/plain": [
       "3"
      ]
     },
     "execution_count": 21,
     "metadata": {},
     "output_type": "execute_result"
    }
   ],
   "source": [
    "get_num_leafs(my_tree)"
   ]
  },
  {
   "cell_type": "code",
   "execution_count": 22,
   "metadata": {},
   "outputs": [
    {
     "data": {
      "text/plain": [
       "2"
      ]
     },
     "execution_count": 22,
     "metadata": {},
     "output_type": "execute_result"
    }
   ],
   "source": [
    "get_tree_depth(my_tree)"
   ]
  },
  {
   "cell_type": "code",
   "execution_count": 28,
   "metadata": {
    "collapsed": true
   },
   "outputs": [],
   "source": [
    "\n",
    "def plot_mid_text(cntr_pt,parent_t,txt_string):  \n",
    "    lens=len(txt_string)  \n",
    "    x_mid=(parent_pt[0]+cntr_pt[0])/2.0-lens*0.002  \n",
    "    y_mid=(parent_pt[1]+cntr_pt[1])/2.0  \n",
    "    create_plot.ax1.text(x_mid,y_mid,txt_string) \n",
    "    \n",
    "def plot_tree(my_tree, parent_pt, node_txt):\n",
    "    num_leafs = get_num_leafs(my_tree)  \n",
    "    depth = get_tree_depth(my_tree)\n",
    "    first_str = list(my_tree.keys())[0]    \n",
    "    cntr_pt = (plot_tree.xOff + (1.0 + float(num_leafs))/2.0/plot_tree.totalW, plot_tree.yOff)\n",
    "    plot_mid_text(cntr_pt, parent_pt, node_txt)\n",
    "    plot_node(first_str, cntr_pt, parent_pt, decision_node)\n",
    "    second_dict = my_tree[first_str]\n",
    "    plot_tree.yOff = plot_tree.yOff - 1.0/plot_tree.totalD\n",
    "    for key in second_dict.keys():\n",
    "        if type(second_dict[key]).__name__=='dict':\n",
    "            plot_tree(second_dict[key],cntr_pt,str(key))        \n",
    "        else:  \n",
    "            plot_tree.xOff = plot_tree.xOff + 1.0/plot_tree.totalW\n",
    "            plot_node(second_dict[key], (plot_tree.xOff, plot_tree.yOff), cntr_pt, leaf_node)\n",
    "            plot_mid_text((plot_tree.xOff, plot_tree.yOff), cntr_pt, str(key))\n",
    "    plot_tree.yOff = plot_tree.yOff + 1.0/plot_tree.totalD\n",
    "\n",
    "\n",
    "def create_plot(in_tree):\n",
    "    fig = plt.figure(1, facecolor='white')\n",
    "    fig.clf()\n",
    "    axprops = dict(xticks=[], yticks=[])\n",
    "    create_plot.ax1 = plt.subplot(111, frameon=False, **axprops)    \n",
    "    plot_tree.totalW = float(get_num_leafs(in_tree))\n",
    "    plot_tree.totalD = float(get_tree_depth(in_tree))\n",
    "    plot_tree.xOff = -0.5/plot_tree.totalW; plot_tree.yOff = 1.0;\n",
    "    plot_tree(in_tree, (0.5,1.0), '')\n",
    "    plt.show()\n",
    "\n",
    "\n",
    "def retrieve_tree(i):\n",
    "    list_of_trees =[{'no surfacing': {0: 'no', 1: {'flippers': {0: 'no', 1: 'yes'}}}},\n",
    "                  {'no surfacing': {0: 'no', 1: {'flippers': {0: {'head': {0: 'no', 1: 'yes'}}, 1: 'no'}}}}\n",
    "                  ]\n",
    "    return list_of_trees[i]\n",
    "\n"
   ]
  },
  {
   "cell_type": "code",
   "execution_count": 29,
   "metadata": {
    "collapsed": true
   },
   "outputs": [],
   "source": [
    "my_tree=retrieve_tree(0)"
   ]
  },
  {
   "cell_type": "code",
   "execution_count": 30,
   "metadata": {},
   "outputs": [
    {
     "data": {
      "image/png": "[encoded data removed]",
      "text/plain": [
       "<matplotlib.figure.Figure at 0x175aca76940>"
      ]
     },
     "metadata": {},
     "output_type": "display_data"
    }
   ],
   "source": [
    "create_plot(my_tree)"
   ]
  },
  {
   "cell_type": "code",
   "execution_count": 31,
   "metadata": {
    "collapsed": true
   },
   "outputs": [],
   "source": [
    "my_tree['no surfacing'][3]='maybe'"
   ]
  },
  {
   "cell_type": "code",
   "execution_count": 32,
   "metadata": {},
   "outputs": [
    {
     "data": {
      "text/plain": [
       "{'no surfacing': {0: 'no', 1: {'flippers': {0: 'no', 1: 'yes'}}, 3: 'maybe'}}"
      ]
     },
     "execution_count": 32,
     "metadata": {},
     "output_type": "execute_result"
    }
   ],
   "source": [
    "my_tree"
   ]
  },
  {
   "cell_type": "code",
   "execution_count": 33,
   "metadata": {
    "scrolled": true
   },
   "outputs": [
    {
     "data": {
      "image/png": "[encoded data removed]",
      "text/plain": [
       "<matplotlib.figure.Figure at 0x175acb478d0>"
      ]
     },
     "metadata": {},
     "output_type": "display_data"
    }
   ],
   "source": [
    "create_plot(my_tree)"
   ]
  },
  {
   "cell_type": "code",
   "execution_count": 34,
   "metadata": {
    "collapsed": true
   },
   "outputs": [],
   "source": [
    "def classify(input_tree,feat_labels,test_vec):\n",
    "    first_str=list(input_tree.keys())[0]\n",
    "    second_dict=input_tree[first_str]\n",
    "    feat_index=feat_labels.index(first_str)\n",
    "    for key in second_dict.keys():\n",
    "        if test_vec[feat_index]==key:\n",
    "            if type(second_dict[key]).__name__=='dict':\n",
    "                class_label=classify(second_dict[key],feat_labels,test_vec)\n",
    "            else: class_label=second_dict[key]\n",
    "    return class_label"
   ]
  },
  {
   "cell_type": "code",
   "execution_count": 35,
   "metadata": {
    "collapsed": true
   },
   "outputs": [],
   "source": [
    "my_dat,labels=create_data_set()"
   ]
  },
  {
   "cell_type": "code",
   "execution_count": 36,
   "metadata": {},
   "outputs": [
    {
     "data": {
      "text/plain": [
       "['no surfacing', 'flippers']"
      ]
     },
     "execution_count": 36,
     "metadata": {},
     "output_type": "execute_result"
    }
   ],
   "source": [
    "labels"
   ]
  },
  {
   "cell_type": "code",
   "execution_count": 37,
   "metadata": {
    "collapsed": true
   },
   "outputs": [],
   "source": [
    "my_tree=retrieve_tree(0)"
   ]
  },
  {
   "cell_type": "code",
   "execution_count": 38,
   "metadata": {},
   "outputs": [
    {
     "data": {
      "text/plain": [
       "{'no surfacing': {0: 'no', 1: {'flippers': {0: 'no', 1: 'yes'}}}}"
      ]
     },
     "execution_count": 38,
     "metadata": {},
     "output_type": "execute_result"
    }
   ],
   "source": [
    "my_tree"
   ]
  },
  {
   "cell_type": "code",
   "execution_count": 39,
   "metadata": {},
   "outputs": [
    {
     "data": {
      "text/plain": [
       "'no'"
      ]
     },
     "execution_count": 39,
     "metadata": {},
     "output_type": "execute_result"
    }
   ],
   "source": [
    "classify(my_tree,labels,[1,0])"
   ]
  },
  {
   "cell_type": "code",
   "execution_count": 40,
   "metadata": {},
   "outputs": [
    {
     "data": {
      "text/plain": [
       "'yes'"
      ]
     },
     "execution_count": 40,
     "metadata": {},
     "output_type": "execute_result"
    }
   ],
   "source": [
    "classify(my_tree,labels,[1,1])"
   ]
  },
  {
   "cell_type": "code",
   "execution_count": 41,
   "metadata": {
    "collapsed": true
   },
   "outputs": [],
   "source": [
    "def store_tree(input_tree,filename):\n",
    "    import pickle\n",
    "    fw =open(filename,'wb')\n",
    "    pickle.dump(input_tree,fw,0)\n",
    "    fw.close()\n",
    "# def storeTree(inputTree,filename):\n",
    "#     import pickle\n",
    "#     fw = open(filename,'wb')\n",
    "#     pickle.dump(inputTree,fw,0)\n",
    "#     fw.close()\n",
    "    \n",
    "def grab_tree(filename):\n",
    "    import pickle\n",
    "    fr=open(filename,'rb')\n",
    "    return pickle.load(fr)"
   ]
  },
  {
   "cell_type": "code",
   "execution_count": 42,
   "metadata": {
    "collapsed": true
   },
   "outputs": [],
   "source": [
    "store_tree(my_tree,'classifier_storage.txt')"
   ]
  },
  {
   "cell_type": "code",
   "execution_count": 43,
   "metadata": {},
   "outputs": [
    {
     "data": {
      "text/plain": [
       "{'no surfacing': {0: 'no', 1: {'flippers': {0: 'no', 1: 'yes'}}}}"
      ]
     },
     "execution_count": 43,
     "metadata": {},
     "output_type": "execute_result"
    }
   ],
   "source": [
    "grab_tree('classifier_storage.txt')"
   ]
  },
  {
   "cell_type": "code",
   "execution_count": 44,
   "metadata": {},
   "outputs": [
    {
     "data": {
      "text/plain": [
       "{'tearRate': {'normal': {'astigmatic': {'no': {'age': {'pre': 'soft',\n",
       "      'presbyopic': {'prescript': {'hyper': 'soft', 'myope': 'no lenses'}},\n",
       "      'young': 'soft'}},\n",
       "    'yes': {'prescript': {'hyper': {'age': {'pre': 'no lenses',\n",
       "        'presbyopic': 'no lenses',\n",
       "        'young': 'hard'}},\n",
       "      'myope': 'hard'}}}},\n",
       "  'reduced': 'no lenses'}}"
      ]
     },
     "execution_count": 44,
     "metadata": {},
     "output_type": "execute_result"
    }
   ],
   "source": [
    "fr=open('lenses.txt')\n",
    "lenses=[inst.strip().split('\\t')for inst in fr.readlines()]\n",
    "lenses_labels=['age','prescript','astigmatic','tearRate']\n",
    "lenses_tree=create_tree(lenses,lenses_labels)\n",
    "lenses_tree"
   ]
  },
  {
   "cell_type": "code",
   "execution_count": 45,
   "metadata": {},
   "outputs": [
    {
     "data": {
      "image/png": "[encoded data removed]",
      "text/plain": [
       "<matplotlib.figure.Figure at 0x175acc1ee10>"
      ]
     },
     "metadata": {},
     "output_type": "display_data"
    }
   ],
   "source": [
    "create_plot(lenses_tree)"
   ]
  },
  {
   "cell_type": "code",
   "execution_count": null,
   "metadata": {
    "collapsed": true
   },
   "outputs": [],
   "source": []
  }
 ],
 "metadata": {
  "kernelspec": {
   "display_name": "Python 3",
   "language": "python",
   "name": "python3"
  },
  "language_info": {
   "codemirror_mode": {
    "name": "ipython",
    "version": 3
   },
   "file_extension": ".py",
   "mimetype": "text/x-python",
   "name": "python",
   "nbconvert_exporter": "python",
   "pygments_lexer": "ipython3",
   "version": "3.5.2"
  }
 },
 "nbformat": 4,
 "nbformat_minor": 2
}
