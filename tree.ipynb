{
 "cells": [
  {
   "cell_type": "code",
   "execution_count": 1,
   "metadata": {
    "collapsed": true
   },
   "outputs": [],
   "source": [
    "from math import log\n",
    "def calc_shannon_ent(dataset):\n",
    "    num_entries= len(dataset) \n",
    "    label_counts={}\n",
    "    for feat_vec in dataset:\n",
    "        current_label=feat_vec[-1]\n",
    "        if current_label not in label_counts.keys():\n",
    "            label_counts[current_label]=0\n",
    "        label_counts[current_label]+=1\n",
    "    shannon_ent=0.0\n",
    "    for key in label_counts:\n",
    "        prob=float(label_counts[key])/num_entries\n",
    "        shannon_ent-=prob*log(prob,2)\n",
    "    return shannon_ent"
   ]
  },
  {
   "cell_type": "code",
   "execution_count": 2,
   "metadata": {
    "collapsed": true
   },
   "outputs": [],
   "source": [
    "def create_data_set():\n",
    "    data_set=[[1,1,'yes'],\n",
    "             [1,1,'yes'],\n",
    "             [1,0,'no'],\n",
    "             [0,1,'no'],\n",
    "             [0,1,'no']]\n",
    "    labels=['no surfacing','flippers']\n",
    "    return data_set,labels"
   ]
  },
  {
   "cell_type": "code",
   "execution_count": 3,
   "metadata": {
    "collapsed": true
   },
   "outputs": [],
   "source": [
    "my_dat,labels=create_data_set()"
   ]
  },
  {
   "cell_type": "code",
   "execution_count": 4,
   "metadata": {},
   "outputs": [
    {
     "data": {
      "text/plain": [
       "[[1, 1, 'yes'], [1, 1, 'yes'], [1, 0, 'no'], [0, 1, 'no'], [0, 1, 'no']]"
      ]
     },
     "execution_count": 4,
     "metadata": {},
     "output_type": "execute_result"
    }
   ],
   "source": [
    "my_dat"
   ]
  },
  {
   "cell_type": "code",
   "execution_count": 5,
   "metadata": {},
   "outputs": [
    {
     "data": {
      "text/plain": [
       "0.9709505944546686"
      ]
     },
     "execution_count": 5,
     "metadata": {},
     "output_type": "execute_result"
    }
   ],
   "source": [
    "calc_shannon_ent(my_dat)"
   ]
  },
  {
   "cell_type": "code",
   "execution_count": null,
   "metadata": {
    "collapsed": true
   },
   "outputs": [],
   "source": []
  },
  {
   "cell_type": "code",
   "execution_count": 6,
   "metadata": {},
   "outputs": [
    {
     "data": {
      "text/plain": [
       "[[1, 1, 'yes'], [1, 1, 'yes'], [1, 0, 'no'], [0, 1, 'no'], [0, 1, 'no']]"
      ]
     },
     "execution_count": 6,
     "metadata": {},
     "output_type": "execute_result"
    }
   ],
   "source": [
    "my_dat"
   ]
  },
  {
   "cell_type": "code",
   "execution_count": 7,
   "metadata": {},
   "outputs": [
    {
     "data": {
      "text/plain": [
       "0.9709505944546686"
      ]
     },
     "execution_count": 7,
     "metadata": {},
     "output_type": "execute_result"
    }
   ],
   "source": [
    "calc_shannon_ent(my_dat)"
   ]
  },
  {
   "cell_type": "code",
   "execution_count": 8,
   "metadata": {
    "collapsed": true
   },
   "outputs": [],
   "source": [
    "def split_data_set(data_set,axis,value):\n",
    "    ret_data_set =[]\n",
    "    for feat_vec in data_set:\n",
    "        if feat_vec[axis]==value:\n",
    "            reduced_feac_vec=feat_vec[:axis]\n",
    "            reduced_feac_vec.extend(feat_vec[axis+1:])\n",
    "            ret_data_set.append(reduced_feac_vec)\n",
    "    return ret_data_set"
   ]
  },
  {
   "cell_type": "code",
   "execution_count": 9,
   "metadata": {},
   "outputs": [
    {
     "data": {
      "text/plain": [
       "[[1, 'yes'], [1, 'yes'], [0, 'no']]"
      ]
     },
     "execution_count": 9,
     "metadata": {},
     "output_type": "execute_result"
    }
   ],
   "source": [
    "split_data_set(my_dat,0,1)"
   ]
  },
  {
   "cell_type": "code",
   "execution_count": 10,
   "metadata": {
    "scrolled": true
   },
   "outputs": [
    {
     "data": {
      "text/plain": [
       "[[1, 1, 'yes'], [1, 1, 'yes'], [1, 0, 'no'], [0, 1, 'no'], [0, 1, 'no']]"
      ]
     },
     "execution_count": 10,
     "metadata": {},
     "output_type": "execute_result"
    }
   ],
   "source": [
    "my_dat"
   ]
  },
  {
   "cell_type": "code",
   "execution_count": 11,
   "metadata": {
    "collapsed": true
   },
   "outputs": [],
   "source": [
    "data_set=my_dat\n"
   ]
  },
  {
   "cell_type": "code",
   "execution_count": 12,
   "metadata": {},
   "outputs": [],
   "source": [
    "def choose_best_feature_to_split(data_set):\n",
    "    num_features= len(data_set[0])-1 #feature的维度，数据是三个，减去一个就是特征数量\n",
    "    base_entropy = calc_shannon_ent(data_set) #计算数据集的香农熵\n",
    "    best_info_gain =0.0;bset_feature= -1\n",
    "    for i in range(num_features):\n",
    "        feat_list=[example[i] for example in data_set]\n",
    "        unique_vals =set(feat_list)\n",
    "        new_entropy = 0.0\n",
    "        for value in unique_vals:\n",
    "            sub_data_set= split_data_set(data_set,i,value)\n",
    "            prob=len(sub_data_set)/float(len(data_set))\n",
    "            new_entropy+=prob*calc_shannon_ent(sub_data_set)\n",
    "        info_gain=base_entropy-new_entropy\n",
    "        if (info_gain>best_info_gain):\n",
    "            best_info_gain=info_gain\n",
    "            best_feature=i\n",
    "    return best_feature\n",
    "\n",
    "import operator\n",
    "\n",
    "def majority_cnt(class_list):\n",
    "    class_count={}\n",
    "    for vote in class_list:\n",
    "        if vote not in class_count.keys():class_count[vote]=0\n",
    "        class_count[vote] +=1\n",
    "        sorted_class_count=sorted(class_count.iteritems(),\n",
    "                                  key=operator.itemgetter(1),reverse=True)\n",
    "    return sorted_class_count[0][0]\n",
    "\n",
    "def create_tree(data_set,labels):\n",
    "    class_list=[example[-1]for example in data_set]\n",
    "    if class_list.count(class_list[0])==len(class_list):\n",
    "        return class_list[0]\n",
    "    if len(data_set[0])==1:\n",
    "        return majority_cnt(class_list)\n",
    "    best_feat=choose_best_feature_to_split(data_set)\n",
    "    best_feat_label=labels[best_feat]\n",
    "    my_tree={best_feat_label:{}}\n",
    "    del(labels[best_feat])\n",
    "    feat_values=[example[best_feat]for example in data_set]\n",
    "    unique_vals=set(feat_values)\n",
    "    for value in unique_vals:\n",
    "        sub_labels=labels[:]\n",
    "        my_tree[best_feat_label][value]=create_tree(split_data_set\\\n",
    "                            (data_set,best_feat,value),sub_labels)\n",
    "    return my_tree"
   ]
  },
  {
   "cell_type": "code",
   "execution_count": 13,
   "metadata": {},
   "outputs": [],
   "source": [
    "my_tree=create_tree(my_dat,labels)"
   ]
  },
  {
   "cell_type": "code",
   "execution_count": 14,
   "metadata": {},
   "outputs": [
    {
     "data": {
      "text/plain": [
       "{'no surfacing': {0: 'no', 1: {'flippers': {0: 'no', 1: 'yes'}}}}"
      ]
     },
     "execution_count": 14,
     "metadata": {},
     "output_type": "execute_result"
    }
   ],
   "source": [
    "my_tree"
   ]
  },
  {
   "cell_type": "code",
   "execution_count": 7,
   "metadata": {},
   "outputs": [],
   "source": [
    "import matplotlib.pyplot as plt\n",
    "decision_node = dict(boxstyle=\"sawtooth\",fc=\"0.8\")\n",
    "leaf_node = dict (boxstyle=\"round4\",fc=\"0.8\")\n",
    "arrow_args = dict (arrowstyle=\"<-\")\n",
    "\n",
    "def plot_node(node_txt,center_pt,parent_pt,node_type):\n",
    "    create_plot.ax1.annotate(node_txt,xy=parent_pt,xycoords='axes fraction',\\\n",
    "    xytext=center_pt,textcoords='axes fraction',\\\n",
    "    va=\"center\",ha=\"center\",bbox=node_type,arrowprops=arrow_args)\n",
    "    \n",
    "def create_plot():\n",
    "    fig=plt.figure(1,facecolor='white')\n",
    "    fig.clf\n",
    "    create_plot.ax1=plt.subplot(111,frameon=False)\n",
    "    plot_node(U'decision',(0.5,0.1),(0.1,0.5),decision_node)\n",
    "    plot_node(U'leaf',(0.8,0.1),(0.3,0.8),leaf_node)\n",
    "    plt.show()"
   ]
  },
  {
   "cell_type": "code",
   "execution_count": 8,
   "metadata": {
    "scrolled": false
   },
   "outputs": [
    {
     "data": {
      "image/png": "[encoded data removed]",
      "text/plain": [
       "<Figure size 432x288 with 1 Axes>"
      ]
     },
     "metadata": {},
     "output_type": "display_data"
    }
   ],
   "source": [
    "create_plot()"
   ]
  },
  {
   "cell_type": "code",
   "execution_count": 9,
   "metadata": {},
   "outputs": [],
   "source": [
    "def get_num_leafs(my_tree):\n",
    "    num_leafs=0\n",
    "    first_str=my_tree.keys()[0]\n",
    "    second_dict=my_tree[first_str]\n",
    "    for key in second_dict.keys():\n",
    "        if type(second_dict[key]).__name__=='dict':\n",
    "            num_leafs+=get_num_leafs(second_dict[key])\n",
    "        else: num_leafs+=1\n",
    "    return num_leafs\n",
    "\n",
    "def get_tree_depth(my_tree):\n",
    "    max_depth=0\n",
    "    first_dict=my_tree.key()[0]\n",
    "    second_dict=my_tree[first_str]\n",
    "    for key in second_dict.keys():\n",
    "        if type(second_dict[key]).__name__=='dict':\n",
    "            this_depth=1+get_tree_depth(second_dict[key])\n",
    "        else: this_depth=1\n",
    "        if this_depth>max_depth:\n",
    "            max_depth=this_depth\n",
    "    return max_depth"
   ]
  },
  {
   "cell_type": "code",
   "execution_count": null,
   "metadata": {},
   "outputs": [],
   "source": [
    "def retrieve_tree(i):\n",
    "    list_of_trees=[{'no surfacing':{0:'no',1:{'flippers':{0:'no',1:'yes'}}}},\n",
    "                   {''}]"
   ]
  }
 ],
 "metadata": {
  "kernelspec": {
   "display_name": "Python 3",
   "language": "python",
   "name": "python3"
  },
  "language_info": {
   "codemirror_mode": {
    "name": "ipython",
    "version": 3
   },
   "file_extension": ".py",
   "mimetype": "text/x-python",
   "name": "python",
   "nbconvert_exporter": "python",
   "pygments_lexer": "ipython3",
   "version": "3.6.6"
  }
 },
 "nbformat": 4,
 "nbformat_minor": 2
}
